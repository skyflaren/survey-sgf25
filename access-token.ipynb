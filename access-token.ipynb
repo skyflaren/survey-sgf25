{
 "cells": [
  {
   "cell_type": "code",
   "execution_count": 6,
   "id": "4829cd26-da00-49b8-bc00-9d755c937985",
   "metadata": {
    "tags": []
   },
   "outputs": [],
   "source": [
    "import requests\n",
    "import base64\n",
    "import os\n",
    "from dotenv import load_dotenv\n",
    "\n",
    "load_dotenv()\n",
    "\n",
    "client_id = os.getenv('CLIENT_ID')\n",
    "client_secret = os.getenv('CLIENT_SECRET')\n",
    "\n",
    "auth_str = f\"{client_id}:{client_secret}\"\n",
    "auth_bytes = auth_str.encode('utf-8')\n",
    "auth_base64 = base64.b64encode(auth_bytes).decode('utf-8')\n",
    "\n",
    "headers = {\n",
    "    \"Authorization\": f\"Basic {auth_base64}\",\n",
    "    \"Content-Type\": \"application/x-www-form-urlencoded\"\n",
    "}\n",
    "data = {\"grant_type\": \"client_credentials\"}"
   ]
  },
  {
   "cell_type": "code",
   "execution_count": 7,
   "id": "be1b22bd-7112-4ee7-887e-c6171ff19a66",
   "metadata": {
    "tags": []
   },
   "outputs": [],
   "source": [
    "response = requests.post(\"https://accounts.spotify.com/api/token\", headers=headers, data=data)\n",
    "token = response.json().get(\"access_token\")"
   ]
  },
  {
   "cell_type": "code",
   "execution_count": 8,
   "id": "c00a552e-021b-4fc3-b6cd-58d46b46886a",
   "metadata": {
    "tags": []
   },
   "outputs": [
    {
     "name": "stdout",
     "output_type": "stream",
     "text": [
      "Access Token: BQB64clX4hPuTGCnvL0JG9tRNEUsYAUQ6Rjm8w_FAJRX6ByesdJ2ixLEl4w9ZNstoqs_D2c2Bqn7MSLg0kBeK2px0hO5NDxcrOhwaCxHOBfxvj8Z6SA\n"
     ]
    }
   ],
   "source": [
    "print(f\"Access Token: {token}\")"
   ]
  },
  {
   "cell_type": "code",
   "execution_count": null,
   "id": "8554c4e8-54f2-4c5e-92bc-a5004119cda7",
   "metadata": {},
   "outputs": [],
   "source": []
  }
 ],
 "metadata": {
  "kernelspec": {
   "display_name": "Python 3 (ipykernel)",
   "language": "python",
   "name": "python3"
  },
  "language_info": {
   "codemirror_mode": {
    "name": "ipython",
    "version": 3
   },
   "file_extension": ".py",
   "mimetype": "text/x-python",
   "name": "python",
   "nbconvert_exporter": "python",
   "pygments_lexer": "ipython3",
   "version": "3.11.5"
  }
 },
 "nbformat": 4,
 "nbformat_minor": 5
}
